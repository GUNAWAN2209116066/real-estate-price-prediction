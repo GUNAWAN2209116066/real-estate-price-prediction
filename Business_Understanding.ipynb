{
  "nbformat": 4,
  "nbformat_minor": 0,
  "metadata": {
    "colab": {
      "provenance": []
    },
    "kernelspec": {
      "name": "python3",
      "display_name": "Python 3"
    },
    "language_info": {
      "name": "python"
    }
  },
  "cells": [
    {
      "cell_type": "code",
      "execution_count": null,
      "metadata": {
        "id": "KFUgRt2vd-cI"
      },
      "outputs": [],
      "source": []
    },
    {
      "cell_type": "markdown",
      "source": [
        "# **predeksi harga properti**"
      ],
      "metadata": {
        "id": "_a1KL19geFoa"
      }
    },
    {
      "cell_type": "markdown",
      "source": [
        " **Business Understanding**"
      ],
      "metadata": {
        "id": "NaHrU1hxhUMb"
      }
    },
    {
      "cell_type": "markdown",
      "source": [
        "\n",
        "**Business objective**\n",
        "Dalam menjalankan bisnis real estate, beberapa tujuan krusial dapat ditetapkan untuk mengarahkan pencapaian keberhasilan dan pertumbuhan perusahaan. Pertama, fokus utama adalah pada peningkatan pendapatan tahunan melalui strategi penjualan, penyewaan, dan layanan manajemen properti. Seiring dengan itu, ekspansi pasar menjadi tujuan strategis untuk memperluas cakupan ke wilayah baru dan menjangkau segmen pasar yang berbeda guna meningkatkan pangsa pasar.\n",
        "\n",
        "**Asses sutuation**\n",
        "Dalam mengkaji situasi bisnis real estate, analisis menyeluruh menjadi kunci untuk memahami dinamika pasar dan peluang yang ada. Pertama-tama, kami meninjau tren pasar terbaru, memperhatikan seberapa kuat permintaan dan penawaran properti di wilayah operasional. Langkah selanjutnya adalah mengevaluasi portofolio properti kami, mengidentifikasi area di mana perbaikan atau pembaruan mungkin diperlukan untuk meningkatkan nilai dan daya tarik.\n",
        "\n",
        "**Data mining Goals**\n",
        "tujuan data mining adalah untuk menggali wawasan yang mendalam dari volume besar data yang terkait dengan industri properti. Pertama-tama, fokus data mining dapat diarahkan untuk menganalisis tren pasar, mencari pola pembelian dan harga properti, serta mengidentifikasi daerah yang potensial untuk pertumbuhan. Melalui analisis data, kita dapat memahami preferensi konsumen, memprediksi perubahan permintaan, dan menyesuaikan strategi pemasaran agar lebih sesuai dengan kebutuhan pasar.\n",
        "\n",
        "**project plan**\n",
        "Rencana proyek untuk pengembangan bisnis real estate mencakup serangkaian langkah strategis untuk mencapai tujuan bisnis. Pertama-tama, akan dilakukan analisis pasar menyeluruh untuk memahami tren terbaru, permintaan properti, dan potensi pertumbuhan di wilayah yang ditargetkan. Informasi ini akan membentuk dasar bagi pengambilan keputusan yang tepat dalam hal akuisisi dan pengelolaan portofolio properti.\n",
        "\n",
        "Langkah selanjutnya melibatkan penerapan strategi pemasaran yang terarah untuk meningkatkan visibilitas merek, menargetkan segmen pasar yang tepat, dan meningkatkan penjualan. Pemanfaatan teknologi, seperti pemasaran digital dan platform online, akan menjadi bagian integral dari strategi ini"
      ],
      "metadata": {
        "id": "zjwLH27xhvAK"
      }
    }
  ]
}